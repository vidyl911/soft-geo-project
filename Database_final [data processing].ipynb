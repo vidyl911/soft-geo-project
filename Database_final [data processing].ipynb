{
 "cells": [
  {
   "cell_type": "code",
   "execution_count": null,
   "id": "6c0d8a66",
   "metadata": {},
   "outputs": [],
   "source": [
    "#Tarig's part\n",
    "import pandas as pd"
   ]
  },
  {
   "cell_type": "code",
   "execution_count": 62,
   "id": "92ae3f25",
   "metadata": {},
   "outputs": [],
   "source": [
    "df_sensors = pd.read_csv('air_quality_sensors_data.csv')\n",
    "df_stations = pd.read_csv('air_quality_stations.csv')\n",
    "\n",
    "#df_sensors.rename(columns={'idSensore': 'sensor_id', 'Data': 'date&time', 'Valore':'Value', 'Stato':'State', 'idOperatore':'operator_id'}, inplace=True)\n",
    "\n",
    "sensor_list = df_sensors['idSensore'].unique()\n",
    "\n",
    "df_common_sensors = df_stations[df_stations['IdSensore'].isin(sensor_list)]\n",
    "\n",
    "df_common_sensors.to_csv('common_sensors.csv', index=False)\n"
   ]
  },
  {
   "cell_type": "code",
   "execution_count": null,
   "id": "d64bd1c0",
   "metadata": {},
   "outputs": [],
   "source": [
    "common_sensors = pd.read_csv('common_sensors.csv')\n",
    "\n",
    "df_sensors_data = pd.read_csv('air_quality_sensors_data.csv')\n",
    "\n",
    "# For sensors where DataStop is blank, we will set them to 'Present' inside CSV file\n",
    "# For sensors where DataStop is not 'Present', we will remove them from the dataset\n",
    "common_sensors = common_sensors[common_sensors['DataStop']=='Present']\n",
    "\n",
    "common_sensors.to_csv('common_sensors_present.csv', index=False)\n",
    "\n",
    "common_sensor_list = common_sensors['IdSensore'].unique()\n",
    "\n",
    "df_sensors_data = df_sensors_data[df_sensors_data['idSensore'].isin(common_sensor_list)]"
   ]
  },
  {
   "cell_type": "code",
   "execution_count": null,
   "id": "975049ca",
   "metadata": {},
   "outputs": [],
   "source": [
    "\n",
    "df_sensors_data['Data'] = pd.to_datetime(df_sensors_data['Data'], format='%d-%m-%Y %H:%M:%S')\n",
    "\n",
    "cutoff_date = pd.to_datetime('01-01-2022 00:00:00', format='%d-%m-%Y %H:%M:%S')\n",
    "\n",
    "df_sensors_data = df_sensors_data[df_sensors_data['Data'] > cutoff_date]\n",
    "\n",
    "df_sensors_data.to_csv('present_sensors_data_01_Jan_2022.csv', index=False)"
   ]
  },
  {
   "cell_type": "code",
   "execution_count": null,
   "id": "54067be7",
   "metadata": {},
   "outputs": [],
   "source": [
    "df_stations_data = pd.read_csv('common_sensors.csv')\n",
    "df_sensors_data = pd.read_csv('present_sensors_data_01_Jan_2022.csv')\n",
    "\n",
    "df_sensors_data_list = df_sensors_data['idSensore'].unique()\n",
    "\n",
    "df_stations_data = df_stations_data[df_stations_data['IdSensore'].isin(df_sensors_data_list)]\n",
    "\n",
    "df_stations_data.to_csv('common_sensors_stations.csv', index=False)\n",
    "\n"
   ]
  },
  {
   "cell_type": "code",
   "execution_count": null,
   "id": "3dca411d",
   "metadata": {},
   "outputs": [],
   "source": [
    "#Viplove's Part\n",
    "df_common_sensors = pd.read_csv('common_sensors_stations.csv')\n",
    "df_common_sensors_data = pd.read_csv('present_sensors_data_01_Jan_2022.csv')\n",
    "\n",
    "#df_common_sensors_data = df_common_sensors_data.merge(df_common_sensors, left_on='idSensore', right_on='IdSensore', how='left')\n",
    "\n",
    "df_common_sensors.drop(columns=['Quota','Comune','Storico','Utm_Nord','UTM_Est','Location'], inplace=True)\n",
    "\n",
    "df_common_sensors_data.drop(columns=['Stato','idOperatore'], inplace=True)\n",
    "\n",
    "df_common_sensors_data = df_common_sensors_data.rename(columns={\n",
    "    'idSensore': 'sensor_id',\n",
    "    'Data': 'date_time',\n",
    "    'Valore': 'value'})\n",
    "\n",
    "df_common_sensors = df_common_sensors.rename(columns={\n",
    "    'IdSensore': 'sensor_id',\n",
    "    'NomeTipoSensore': 'sensor_type',\n",
    "    'UnitaMisura': 'unit',\n",
    "    'Idstazione': 'station_id',\n",
    "    'NomeStazione': 'station_name',\n",
    "    'Provincia': 'province',\n",
    "    'DataStart': 'start_date',\n",
    "    'DataStop': 'end_date','lng': 'longitude',\n",
    "    'lat': 'latitude'})\n",
    "\n",
    "df_common_sensors.to_csv('sensors_and_station_info.csv', index=False)\n",
    "df_common_sensors_data.to_csv('sensors_data_01_Jan_2022.csv', index=False)"
   ]
  },
  {
   "cell_type": "code",
   "execution_count": 59,
   "id": "2deb7472",
   "metadata": {},
   "outputs": [],
   "source": [
    "df_sensors_data_01_Jan_2022 = pd.read_csv('sensors_data_01_Jan_2022.csv')\n",
    "df_sensors_and_station_info = pd.read_csv('sensors_and_station_info.csv')\n",
    "df_sensors_data_01_Jan_2022 = df_sensors_data_01_Jan_2022.merge(df_sensors_and_station_info, on='sensor_id', how='left')\n",
    "\n",
    "df_sensors_data_01_Jan_2022.to_csv('sensors_data_01_Jan_2022_to_present_with_station_info.csv', index=False)\n",
    "\n",
    "df_sensors_data_01_Jan_2022['sensor_type'] = df_sensors_data_01_Jan_2022['sensor_type'].str.replace('PM10 (SM2005)', 'PM10')\n",
    "df_sensors_data_01_Jan_2022['sensor_type'] = df_sensors_data_01_Jan_2022['sensor_type'].str.replace('Particelle sospese PM2.5', 'PM2.5')\n",
    "df_sensors_data_01_Jan_2022['sensor_type'] = df_sensors_data_01_Jan_2022['sensor_type'].str.replace('Biossido di Azoto', 'Nitrogen Dioxide(NO2)')\n",
    "df_sensors_data_01_Jan_2022['sensor_type'] = df_sensors_data_01_Jan_2022['sensor_type'].str.replace('Ozono', 'Ozone(O3)')\n",
    "df_sensors_data_01_Jan_2022['sensor_type'] = df_sensors_data_01_Jan_2022['sensor_type'].str.replace('Ossidi di Azoto', 'Nitrogen Oxides(NOx)')\n",
    "df_sensors_data_01_Jan_2022['sensor_type'] = df_sensors_data_01_Jan_2022['sensor_type'].str.replace('Monossido di Carbonio', 'Carbon Monoxide(CO)')\n",
    "\n",
    "df_sensors_data_01_Jan_2022 = df_sensors_data_01_Jan_2022[df_sensors_data_01_Jan_2022['sensor_type']!='Benzene']\n",
    "\n",
    "df_sensors_data_01_Jan_2022.to_csv('sensors_data_01_Jan_2022_to_present_with_station_info_english.csv', index=False)"
   ]
  },
  {
   "cell_type": "code",
   "execution_count": null,
   "id": "6216ef33",
   "metadata": {},
   "outputs": [],
   "source": [
    "df_sensors_data_01_Jan_2022 = pd.read_csv('sensors_data_01_Jan_2022_to_present_with_station_info_english.csv')\n",
    "\n",
    "df_sensors_data_01_Jan_2022 = df_sensors_data_01_Jan_2022[df_sensors_data_01_Jan_2022['value']!=-9999]\n",
    "\n",
    "df_sensors_data_01_Jan_2022.to_csv('sensors_data_lombardia_final.csv', index=False)\n",
    "\n",
    "\n"
   ]
  },
  {
   "cell_type": "code",
   "execution_count": 12,
   "id": "8b644c38",
   "metadata": {},
   "outputs": [],
   "source": [
    "df_sensors_data = pd.read_csv('sensors_data_lombardia_final.csv')\n",
    "\n",
    "df_sensors_data['date_time'] = pd.to_datetime(df_sensors_data['date_time'], format='%d-%m-%Y %H:%M')\n",
    "\n",
    "df_sorted = df_sensors_data.sort_values(by=['sensor_id', 'date_time'])\n",
    "\n",
    "df_sensor_station_info = df_sorted.drop_duplicates(subset='sensor_id', keep='last')\n",
    "\n",
    "df_sensor_station_info = df_sensor_station_info[['sensor_id', 'date_time', 'value', 'sensor_type', 'latitude', 'longitude']]\n"
   ]
  },
  {
   "cell_type": "code",
   "execution_count": 13,
   "id": "12adc219",
   "metadata": {},
   "outputs": [],
   "source": [
    "def classify_air_quality(row):\n",
    "    pollutant = row['sensor_type']\n",
    "    value = row['value']\n",
    "\n",
    "    if 'NO2' in pollutant or 'NOx' in pollutant:\n",
    "        if value <= 100:\n",
    "            return 'Good'\n",
    "        elif value <= 200:\n",
    "            return 'Moderate'\n",
    "        else:\n",
    "            return 'Unhealthy'\n",
    "\n",
    "    elif 'CO' in pollutant:\n",
    "        if value <= 10:\n",
    "            return 'Good'\n",
    "        elif value <= 30:\n",
    "            return 'Moderate'\n",
    "        else:\n",
    "            return 'Unhealthy'\n",
    "\n",
    "    elif 'O3' in pollutant:\n",
    "        if value <= 100:\n",
    "            return 'Good'\n",
    "        elif value <= 180:\n",
    "            return 'Moderate'\n",
    "        else:\n",
    "            return 'Unhealthy'\n",
    "\n",
    "    elif 'PM2.5' in pollutant:\n",
    "        if value <= 35:\n",
    "            return 'Good'\n",
    "        elif value <= 100:\n",
    "            return 'Moderate'\n",
    "        else:\n",
    "            return 'Unhealthy'\n",
    "\n",
    "    elif 'PM10' in pollutant:\n",
    "        if value <= 50:\n",
    "            return 'Good'\n",
    "        elif value <= 150:\n",
    "            return 'Moderate'\n",
    "        else:\n",
    "            return 'Unhealthy'\n",
    "\n",
    "    return 'Unknown'\n",
    "\n",
    "# Apply classification\n",
    "df_sensor_station_info['air_quality'] = df_sensor_station_info.apply(classify_air_quality, axis=1)\n",
    "\n",
    "df_sensor_station_info.to_csv('distinct_sensor_info_lombardia_final.csv')\n"
   ]
  }
 ],
 "metadata": {
  "kernelspec": {
   "display_name": "Python 3",
   "language": "python",
   "name": "python3"
  },
  "language_info": {
   "codemirror_mode": {
    "name": "ipython",
    "version": 3
   },
   "file_extension": ".py",
   "mimetype": "text/x-python",
   "name": "python",
   "nbconvert_exporter": "python",
   "pygments_lexer": "ipython3",
   "version": "3.11.9"
  }
 },
 "nbformat": 4,
 "nbformat_minor": 5
}
